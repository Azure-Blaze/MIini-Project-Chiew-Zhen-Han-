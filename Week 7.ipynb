{
 "cells": [
  {
   "cell_type": "code",
   "execution_count": 61,
   "metadata": {
    "collapsed": true,
    "pycharm": {
     "name": "#%%\n"
    }
   },
   "outputs": [],
   "source": [
    "import numpy as np\n",
    "import cv2 as cv\n",
    "import matplotlib.pyplot as plt\n",
    "import random as rng"
   ]
  },
  {
   "cell_type": "markdown",
   "source": [
    "Activity 1"
   ],
   "metadata": {
    "collapsed": false,
    "pycharm": {
     "name": "#%% md\n"
    }
   }
  },
  {
   "cell_type": "code",
   "execution_count": 8,
   "outputs": [
    {
     "data": {
      "text/plain": "<Figure size 432x288 with 1 Axes>",
      "image/png": "[encoded data removed]"
     },
     "metadata": {
      "needs_background": "light"
     },
     "output_type": "display_data"
    }
   ],
   "source": [
    "img1 = cv.imread('railway.jfif',0)\n",
    "\n",
    "eq1 = cv.equalizeHist(img1)\n",
    "eq2 = cv.equalizeHist(eq1)\n",
    "\n",
    "plt.hist(eq1.ravel(), 256, [0,256], color = 'r')\n",
    "plt.show()"
   ],
   "metadata": {
    "collapsed": false,
    "pycharm": {
     "name": "#%%\n"
    }
   }
  },
  {
   "cell_type": "code",
   "execution_count": 9,
   "outputs": [
    {
     "data": {
      "text/plain": "<Figure size 432x288 with 1 Axes>",
      "image/png": "[encoded data removed]"
     },
     "metadata": {
      "needs_background": "light"
     },
     "output_type": "display_data"
    }
   ],
   "source": [
    "plt.hist(eq2.ravel(), 256, [0,256], color = 'r')\n",
    "plt.show()"
   ],
   "metadata": {
    "collapsed": false,
    "pycharm": {
     "name": "#%%\n"
    }
   }
  },
  {
   "cell_type": "markdown",
   "source": [
    "Result: there are no differences between the 2 images"
   ],
   "metadata": {
    "collapsed": false,
    "pycharm": {
     "name": "#%% md\n"
    }
   }
  },
  {
   "cell_type": "markdown",
   "source": [
    "Activity 2"
   ],
   "metadata": {
    "collapsed": false,
    "pycharm": {
     "name": "#%% md\n"
    }
   }
  },
  {
   "cell_type": "code",
   "execution_count": 16,
   "outputs": [],
   "source": [
    "img2 = cv.imread(\"electronic.jfif\")\n",
    "img2blur = cv.GaussianBlur(img2,(5,5),0)\n",
    "\n",
    "Ksize = 3\n",
    "\n",
    "sobel_x1 = cv.Sobel(img2, cv.CV_64F,1,0, ksize = Ksize)\n",
    "sobel_y1 = cv.Sobel(img2, cv.CV_64F,0,1, ksize = Ksize)\n",
    "grad1 = cv.magnitude(sobel_x1, sobel_y1)\n",
    "grad1 = cv.convertScaleAbs(grad1)\n",
    "\n",
    "sobel_x2 = cv.Sobel(img2blur, cv.CV_64F,1,0, ksize = Ksize)\n",
    "sobel_y2 = cv.Sobel(img2blur, cv.CV_64F,0,1, ksize = Ksize)\n",
    "grad2 = cv.magnitude(sobel_x2, sobel_y2)\n",
    "grad2 = cv.convertScaleAbs(grad2)\n",
    "\n",
    "laplacian1 = cv.Laplacian(img2, cv.CV_64F, ksize = Ksize)\n",
    "laplacian_8u1 = cv.convertScaleAbs(laplacian1)\n",
    "\n",
    "laplacian2 = cv.Laplacian(img2blur, cv.CV_64F, ksize = Ksize)\n",
    "laplacian_8u2 = cv.convertScaleAbs(laplacian2)\n",
    "\n",
    "cv.imshow('laplacian without blur', laplacian_8u1)\n",
    "cv.imshow('laplacian with blur', laplacian_8u2)\n",
    "cv.imshow('sobel without blur', grad1)\n",
    "cv.imshow('sobel with blur', grad2)\n",
    "cv.waitKey(0)\n",
    "cv.destroyAllWindows()\n"
   ],
   "metadata": {
    "collapsed": false,
    "pycharm": {
     "name": "#%%\n"
    }
   }
  },
  {
   "cell_type": "markdown",
   "source": [
    "Result:\n",
    "    the optimal Kernal size is 1\n",
    "    bluring sobel image has some effect on sobel while it has a massive effect on laplacian\n",
    "    and based on the result, laplancian with Ksize of 1 can optimally find the objects edges"
   ],
   "metadata": {
    "collapsed": false,
    "pycharm": {
     "name": "#%% md\n"
    }
   }
  },
  {
   "cell_type": "markdown",
   "source": [
    "Activity 3"
   ],
   "metadata": {
    "collapsed": false,
    "pycharm": {
     "name": "#%% md\n"
    }
   }
  },
  {
   "cell_type": "code",
   "execution_count": 60,
   "outputs": [],
   "source": [
    "img3 = cv.imread(\"pineapple.jfif\")\n",
    "img3 = cv.GaussianBlur(img3,(5,5),0)\n",
    "img3 = cv.cvtColor(img3, cv.COLOR_BGR2GRAY)\n",
    "\n",
    "Ksize = 3\n",
    "\n",
    "sobel_x = cv.Sobel(img3, cv.CV_64F,1,0, ksize = Ksize)\n",
    "sobel_y = cv.Sobel(img3, cv.CV_64F,0,1, ksize = Ksize)\n",
    "grad = cv.magnitude(sobel_x, sobel_y)\n",
    "grad = cv.convertScaleAbs(grad)\n",
    "\n",
    "laplacian = cv.Laplacian(img3, cv.CV_64F, ksize = Ksize)\n",
    "laplacian_8u = cv.convertScaleAbs(laplacian)\n",
    "\n",
    "canny = cv.Canny(img3,100,200,apertureSize = 3)\n",
    "\n",
    "kernelx = np.array([[1,1,1],[0,0,0],[-1,-1,-1]])\n",
    "kernely = np.array([[-1,0,1],[-1,0,1],[-1,0,1]])\n",
    "prewittx = cv.filter2D(img3, -1, kernelx)\n",
    "prewitty = cv.filter2D(img3, -1, kernely)\n",
    "prewitt = cv.bitwise_or(prewitty,prewittx)\n",
    "\n",
    "\n",
    "scharrx = cv.Scharr(img3,-1,1,0)\n",
    "scharry = cv.Scharr(img3,-1,0,1)\n",
    "scharr = cv.bitwise_or(scharrx,scharry)\n",
    "\n",
    "cv.imshow('sobel', grad)\n",
    "cv.imshow('laplacian', laplacian_8u)\n",
    "cv.imshow('canny', canny)\n",
    "cv.imshow('prewitt', prewitt)\n",
    "cv.imshow('scharr', scharr)\n",
    "cv.waitKey(0)\n",
    "cv.destroyAllWindows()"
   ],
   "metadata": {
    "collapsed": false,
    "pycharm": {
     "name": "#%%\n"
    }
   }
  },
  {
   "cell_type": "markdown",
   "source": [
    "Result: Canny show the least noises"
   ],
   "metadata": {
    "collapsed": false,
    "pycharm": {
     "name": "#%% md\n"
    }
   }
  },
  {
   "cell_type": "markdown",
   "source": [
    "Activity 4"
   ],
   "metadata": {
    "collapsed": false,
    "pycharm": {
     "name": "#%% md\n"
    }
   }
  },
  {
   "cell_type": "code",
   "execution_count": 62,
   "outputs": [],
   "source": [],
   "metadata": {
    "collapsed": false,
    "pycharm": {
     "name": "#%%\n"
    }
   }
  },
  {
   "cell_type": "code",
   "execution_count": null,
   "outputs": [],
   "source": [],
   "metadata": {
    "collapsed": false,
    "pycharm": {
     "name": "#%%\n"
    }
   }
  },
  {
   "cell_type": "code",
   "execution_count": null,
   "outputs": [],
   "source": [],
   "metadata": {
    "collapsed": false,
    "pycharm": {
     "name": "#%%\n"
    }
   }
  },
  {
   "cell_type": "code",
   "execution_count": null,
   "outputs": [],
   "source": [],
   "metadata": {
    "collapsed": false,
    "pycharm": {
     "name": "#%%\n"
    }
   }
  },
  {
   "cell_type": "code",
   "execution_count": null,
   "outputs": [],
   "source": [],
   "metadata": {
    "collapsed": false,
    "pycharm": {
     "name": "#%%\n"
    }
   }
  }
 ],
 "metadata": {
  "kernelspec": {
   "display_name": "Python 3",
   "language": "python",
   "name": "python3"
  },
  "language_info": {
   "codemirror_mode": {
    "name": "ipython",
    "version": 2
   },
   "file_extension": ".py",
   "mimetype": "text/x-python",
   "name": "python",
   "nbconvert_exporter": "python",
   "pygments_lexer": "ipython2",
   "version": "2.7.6"
  }
 },
 "nbformat": 4,
 "nbformat_minor": 0
}