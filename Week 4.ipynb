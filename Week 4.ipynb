{
 "cells": [
  {
   "cell_type": "code",
   "execution_count": 2,
   "id": "b59a27fa",
   "metadata": {
    "scrolled": true
   },
   "outputs": [
    {
     "name": "stdout",
     "output_type": "stream",
     "text": [
      "Collecting opencv-python\n",
      "  Downloading opencv_python-4.6.0.66-cp36-abi3-win_amd64.whl (35.6 MB)\n",
      "Requirement already satisfied: numpy>=1.19.3 in c:\\users\\simon\\anaconda3\\lib\\site-packages (from opencv-python) (1.21.5)\n",
      "Installing collected packages: opencv-python\n",
      "Successfully installed opencv-python-4.6.0.66\n"
     ]
    }
   ],
   "source": [
    "import sys\n",
    "!{sys.executable} -m pip install opencv-python"
   ]
  },
  {
   "cell_type": "code",
   "execution_count": 3,
   "id": "a26a570d",
   "metadata": {},
   "outputs": [
    {
     "data": {
      "text/plain": [
       "True"
      ]
     },
     "execution_count": 3,
     "metadata": {},
     "output_type": "execute_result"
    }
   ],
   "source": [
    "import sys\n",
    "# Python 3.7 is required\n",
    "assert sys.version_info >= (3,7)\n",
    "\n",
    "import cv2 as cv\n",
    "import numpy as np\n",
    "\n",
    "# For reproducibility,\n",
    "np.random.seed(99)\n",
    "\n",
    "# Make sure that optimization is enabled\n",
    "if not cv.useOptimized():\n",
    "    cv.setUseOptimized(True)\n",
    "\n",
    "cv.useOptimized()"
   ]
  },
  {
   "cell_type": "markdown",
   "id": "5f98a6c8",
   "metadata": {},
   "source": [
    "Activity 1"
   ]
  },
  {
   "cell_type": "code",
   "execution_count": 6,
   "id": "002bb59a",
   "metadata": {},
   "outputs": [],
   "source": [
    "img = cv.imread('lena.jpg') \n",
    " \n",
    "verticalAppendedImg = np.vstack((img,img))\n",
    "horizontalAppendedImg = np.hstack((img,img,img))\n",
    " \n",
    " \n",
    "cv.imshow('Vertical Appended', verticalAppendedImg)\n",
    "cv.imshow('Horizontal Appended', horizontalAppendedImg)\n",
    " \n",
    "cv.waitKey(0)\n",
    "cv.destroyAllWindows()"
   ]
  },
  {
   "cell_type": "markdown",
   "id": "f4ecef11",
   "metadata": {},
   "source": [
    "Activity 2"
   ]
  },
  {
   "cell_type": "code",
   "execution_count": 27,
   "id": "6bb75d7b",
   "metadata": {},
   "outputs": [],
   "source": [
    "cap = cv.VideoCapture('img_pexels.mp4')\n",
    "\n",
    "if not cap.isOpened():\n",
    "    print(\"Unable to create video\")\n",
    "\n",
    "fourcc = cv.VideoWriter_fourcc(*'XVID')\n",
    "out = cv.VideoWriter('smaller_img_pexels.mp4',fourcc, 5, (1280,720))\n",
    "\n",
    "while True:\n",
    "    ret, frame = cap.read()\n",
    "    if ret == True:\n",
    "        resize_frame = cv.resize(frame,(1280,720),fx=0,fy=0, interpolation = cv.INTER_CUBIC)\n",
    "        out.write(b)\n",
    "        \n",
    "        cv.imshow('frame', resize_frame)\n",
    "        if cv.waitKey(1) & 0xFF == 27:\n",
    "            break\n",
    "    else:\n",
    "        break\n",
    "    \n",
    "cap.release()\n",
    "out.release()\n",
    "cv.destroyAllWindows()"
   ]
  },
  {
   "cell_type": "markdown",
   "id": "1dac11ab",
   "metadata": {},
   "source": [
    "Activity 3"
   ]
  },
  {
   "cell_type": "code",
   "execution_count": 33,
   "id": "ac81c231",
   "metadata": {},
   "outputs": [],
   "source": [
    "img = cv.imread('dog.jfif')\n",
    "gray = cv.cvtColor(img, cv.COLOR_BGR2GRAY)\n",
    " \n",
    "grayImageBGRspace = cv.cvtColor(gray,cv.COLOR_GRAY2BGR)\n",
    " \n",
    "horizontalAppendedIGrayImg = np.hstack((img, grayImageBGRspace))\n",
    " \n",
    "cv.imshow('Horizontal Appended Gray Img', horizontalAppendedIGrayImg)\n",
    " \n",
    " \n",
    "cv.waitKey(0)\n",
    "cv.destroyAllWindows()"
   ]
  },
  {
   "cell_type": "code",
   "execution_count": 35,
   "id": "b574686c",
   "metadata": {},
   "outputs": [
    {
     "data": {
      "text/plain": [
       "-1"
      ]
     },
     "execution_count": 35,
     "metadata": {},
     "output_type": "execute_result"
    }
   ],
   "source": [
    "from skimage.util import random_noise\n",
    "\n",
    "# Load the image\n",
    "img = cv.imread(\"dog.jfif\")\n",
    "\n",
    "# Add salt-and-pepper noise to the image.\n",
    "noise_img = random_noise(img, mode='s&p',amount=0.3)\n",
    "\n",
    "# The above function returns a floating-point image\n",
    "# on the range [0, 1], thus we changed it to 'uint8'\n",
    "# and from [0,255]\n",
    "noise_img = np.array(255*noise_img, dtype = 'uint8')\n",
    "\n",
    "# Display the noise image\n",
    "cv.imshow('blur',noise_img)\n",
    "cv.waitKey(0)"
   ]
  },
  {
   "cell_type": "code",
   "execution_count": null,
   "id": "3135ab5a",
   "metadata": {},
   "outputs": [],
   "source": []
  },
  {
   "cell_type": "code",
   "execution_count": null,
   "id": "09f71ff6",
   "metadata": {},
   "outputs": [],
   "source": []
  },
  {
   "cell_type": "code",
   "execution_count": null,
   "id": "a377c0d1",
   "metadata": {},
   "outputs": [],
   "source": []
  },
  {
   "cell_type": "code",
   "execution_count": 30,
   "id": "0993aa53",
   "metadata": {},
   "outputs": [
    {
     "ename": "ValueError",
     "evalue": "operands could not be broadcast together with shapes (168,300) (224,224) ",
     "output_type": "error",
     "traceback": [
      "\u001b[1;31m---------------------------------------------------------------------------\u001b[0m",
      "\u001b[1;31mValueError\u001b[0m                                Traceback (most recent call last)",
      "Input \u001b[1;32mIn [30]\u001b[0m, in \u001b[0;36m<cell line: 9>\u001b[1;34m()\u001b[0m\n\u001b[0;32m     10\u001b[0m     noisy_image \u001b[38;5;241m=\u001b[39m img \u001b[38;5;241m+\u001b[39m gaussian\n\u001b[0;32m     11\u001b[0m \u001b[38;5;28;01melse\u001b[39;00m:\n\u001b[1;32m---> 12\u001b[0m     noisy_image[:, :, \u001b[38;5;241m0\u001b[39m] \u001b[38;5;241m=\u001b[39m \u001b[43mimg\u001b[49m\u001b[43m[\u001b[49m\u001b[43m:\u001b[49m\u001b[43m,\u001b[49m\u001b[43m \u001b[49m\u001b[43m:\u001b[49m\u001b[43m,\u001b[49m\u001b[43m \u001b[49m\u001b[38;5;241;43m0\u001b[39;49m\u001b[43m]\u001b[49m\u001b[43m \u001b[49m\u001b[38;5;241;43m+\u001b[39;49m\u001b[43m \u001b[49m\u001b[43mgaussian\u001b[49m\n\u001b[0;32m     13\u001b[0m     noisy_image[:, :, \u001b[38;5;241m1\u001b[39m] \u001b[38;5;241m=\u001b[39m img[:, :, \u001b[38;5;241m1\u001b[39m] \u001b[38;5;241m+\u001b[39m gaussian\n\u001b[0;32m     14\u001b[0m     noisy_image[:, :, \u001b[38;5;241m2\u001b[39m] \u001b[38;5;241m=\u001b[39m img[:, :, \u001b[38;5;241m2\u001b[39m] \u001b[38;5;241m+\u001b[39m gaussian\n",
      "\u001b[1;31mValueError\u001b[0m: operands could not be broadcast together with shapes (168,300) (224,224) "
     ]
    }
   ],
   "source": [
    "img = cv.imread('dog.jfif')\n",
    "mean = 0\n",
    "var = 10\n",
    "sigma = var ** 0.5\n",
    "gaussian = np.random.normal(mean, sigma, (224, 224)) #  np.zeros((224, 224), np.float32)\n",
    "\n",
    "noisy_image = np.zeros(img.shape, np.float32)\n",
    "\n",
    "if len(img.shape) == 2:\n",
    "    noisy_image = img + gaussian\n",
    "else:\n",
    "    noisy_image[:, :, 0] = img[:, :, 0] + gaussian\n",
    "    noisy_image[:, :, 1] = img[:, :, 1] + gaussian\n",
    "    noisy_image[:, :, 2] = img[:, :, 2] + gaussian\n",
    "\n",
    "cv.normalize(noisy_image, noisy_image, 0, 255, cv.NORM_MINMAX, dtype=-1)\n",
    "noisy_image = noisy_image.astype(np.uint8)\n",
    "\n",
    "cv.imshow(\"img\", img)\n",
    "cv.imshow(\"gaussian\", gaussian)\n",
    "cv.imshow(\"noisy\", noisy_image)\n",
    "\n",
    "cv.waitKey(0)\n",
    "cv.destroyAllWindows()"
   ]
  }
 ],
 "metadata": {
  "kernelspec": {
   "display_name": "Python 3 (ipykernel)",
   "language": "python",
   "name": "python3"
  },
  "language_info": {
   "codemirror_mode": {
    "name": "ipython",
    "version": 3
   },
   "file_extension": ".py",
   "mimetype": "text/x-python",
   "name": "python",
   "nbconvert_exporter": "python",
   "pygments_lexer": "ipython3",
   "version": "3.9.12"
  }
 },
 "nbformat": 4,
 "nbformat_minor": 5
}
