{
 "cells": [
  {
   "cell_type": "code",
   "execution_count": 1,
   "metadata": {
    "collapsed": true,
    "pycharm": {
     "name": "#%%\n"
    }
   },
   "outputs": [
    {
     "data": {
      "text/plain": "True"
     },
     "execution_count": 1,
     "metadata": {},
     "output_type": "execute_result"
    }
   ],
   "source": [
    "import sys\n",
    "# Python 3.7 is required\n",
    "assert sys.version_info >= (3,7)\n",
    "\n",
    "import cv2 as cv\n",
    "import numpy as np\n",
    "import matplotlib.pyplot as plt\n",
    "\n",
    "# Make sure that optimization is enabled\n",
    "if not cv.useOptimized():\n",
    "    cv.setUseOptimized(True)\n",
    "\n",
    "cv.useOptimized()"
   ]
  },
  {
   "cell_type": "markdown",
   "source": [
    "Activity 1"
   ],
   "metadata": {
    "collapsed": false,
    "pycharm": {
     "name": "#%% md\n"
    }
   }
  },
  {
   "cell_type": "code",
   "execution_count": 23,
   "outputs": [],
   "source": [
    "img1 = cv.imread('boat.jpg',0)\n",
    "\n",
    "height, width = img1.shape[:2]\n",
    "\n",
    "\n",
    "\n",
    "blur = cv.GaussianBlur(img1, (5, 5), 0)   # the third argument here is standard deviation\n",
    "ret, th1 = cv.threshold(blur, 0, 255, cv.THRESH_BINARY+cv.THRESH_OTSU)\n",
    "\n",
    "cv.rectangle(th1, (300, 350), (700, 430),(170,170,170),3)\n",
    "\n",
    "cv.imshow('activity 1', th1)\n",
    "cv.waitKey(0)\n",
    "cv.destroyAllWindows()"
   ],
   "metadata": {
    "collapsed": false,
    "pycharm": {
     "name": "#%%\n"
    }
   }
  },
  {
   "cell_type": "markdown",
   "source": [
    "Activity 2"
   ],
   "metadata": {
    "collapsed": false,
    "pycharm": {
     "name": "#%% md\n"
    }
   }
  },
  {
   "cell_type": "code",
   "execution_count": 36,
   "outputs": [],
   "source": [
    "img = cv.imread('leaf.jfif',0)\n",
    "\n",
    "blur = cv.GaussianBlur(img, (3, 3), 0)\n",
    "_, img_binary = cv.threshold(blur, 0, 255, cv.THRESH_BINARY_INV+cv.THRESH_OTSU)\n",
    "\n",
    "def trackbar(x):\n",
    "\n",
    "    kernel = np.ones((x,x), np.uint8)\n",
    "\n",
    "    img1 = cv.erode(img_binary, kernel, iterations = 1)\n",
    "    img2 = cv.dilate(img_binary, kernel, iterations=1)\n",
    "    img3 = cv.morphologyEx(img_binary, cv.MORPH_OPEN, kernel, iterations=1)\n",
    "    img4 = cv.morphologyEx(img_binary, cv.MORPH_CLOSE, kernel, iterations=1)\n",
    "\n",
    "    cv.imshow('window', np.hstack([img1, img2, img3, img4]))\n",
    "\n",
    "cv.namedWindow('window')\n",
    "cv.createTrackbar('threshold', 'window', 3, 20, trackbar)\n",
    "cv.waitKey(0)\n",
    "cv.destroyAllWindows()"
   ],
   "metadata": {
    "collapsed": false,
    "pycharm": {
     "name": "#%%\n"
    }
   }
  },
  {
   "cell_type": "markdown",
   "source": [
    "Activity 3"
   ],
   "metadata": {
    "collapsed": false,
    "pycharm": {
     "name": "#%% md\n"
    }
   }
  },
  {
   "cell_type": "code",
   "execution_count": null,
   "outputs": [],
   "source": [],
   "metadata": {
    "collapsed": false,
    "pycharm": {
     "name": "#%%\n"
    }
   }
  }
 ],
 "metadata": {
  "kernelspec": {
   "display_name": "Python 3",
   "language": "python",
   "name": "python3"
  },
  "language_info": {
   "codemirror_mode": {
    "name": "ipython",
    "version": 2
   },
   "file_extension": ".py",
   "mimetype": "text/x-python",
   "name": "python",
   "nbconvert_exporter": "python",
   "pygments_lexer": "ipython2",
   "version": "2.7.6"
  }
 },
 "nbformat": 4,
 "nbformat_minor": 0
}